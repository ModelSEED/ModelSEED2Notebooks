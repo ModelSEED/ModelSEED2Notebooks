{
 "cells": [
  {
   "cell_type": "markdown",
   "metadata": {},
   "source": [
    "# Configure KBase Jupyter Dev Environment\n",
    "<sub><sup>(contact chenry@anl.gov with questions)</sub></sup>"
   ]
  },
  {
   "cell_type": "code",
   "execution_count": 1,
   "metadata": {
    "tags": [],
    "vscode": {
     "languageId": "perl"
    }
   },
   "outputs": [
    {
     "name": "stderr",
     "output_type": "stream",
     "text": [
      "1709446898.424033 INFO: Note: NumExpr detected 16 cores but \"NUMEXPR_MAX_THREADS\" not set, so enforcing safe limit of 8.\n"
     ]
    },
    {
     "name": "stdout",
     "output_type": "stream",
     "text": [
      "python version 3.9.13\n",
      "KBBaseModules 0.0.1\n"
     ]
    },
    {
     "name": "stderr",
     "output_type": "stream",
     "text": [
      "1709446898.425369 INFO: NumExpr defaulting to 8 threads.\n"
     ]
    },
    {
     "name": "stdout",
     "output_type": "stream",
     "text": [
      "modelseedpy 0.3.3\n",
      "Output files printed to:/Users/chenry/workspace/Notebooks//Ontology//sessions/default/output when using KBDevUtils.output_dir\n"
     ]
    }
   ],
   "source": [
    "%run ensemblemodelingutil.py\n",
    "logger = logging.getLogger(__name__)\n",
    "logger.setLevel(logging.INFO)"
   ]
  },
  {
   "cell_type": "markdown",
   "metadata": {},
   "source": [
    "# Building an Ensemble Model"
   ]
  },
  {
   "cell_type": "code",
   "execution_count": 2,
   "metadata": {
    "tags": [],
    "vscode": {
     "languageId": "perl"
    }
   },
   "outputs": [],
   "source": [
    "util.build_ensemble_model({\n",
    "    \"workspace\":151253,\n",
    "    \"genome_ref\":\"77537/Eco_RAST_Prokka_BlastKOALA_PTools_DeepEC_DeepGO\",\n",
    "    \"ontology_events\":[],\n",
    "    \"all_events\":True,\n",
    "    \"run_gapfilling\":True,\n",
    "    \"atp_safe\":True,\n",
    "    \"forced_atp_list\":[],\n",
    "    \"base_media\":\"157893/R2A_M.media\",\n",
    "    \"gapfilling_media_list\":[\n",
    "        \"KBaseMedia/Complete\"\n",
    "    ],\n",
    "    \"suffix\":\".EnsembleMdl\",\n",
    "    \"core_template\":\"auto\",\n",
    "    \"gs_template\":\"auto\",\n",
    "    \"template_reactions_only\":True,\n",
    "    \"output_core_models\":True,\n",
    "    \"save_report_to_kbase\":False,\n",
    "    \"change_to_complete\":0,\n",
    "    \"gapfilling_mode\":\"Independent\",\n",
    "    \"max_gapfilling\":0,\n",
    "    \"gapfilling_delta\":0,\n",
    "    \"sample_count\":100\n",
    "})"
   ]
  },
  {
   "cell_type": "markdown",
   "metadata": {},
   "source": [
    "# Gapfilling Ensemble Model"
   ]
  },
  {
   "cell_type": "code",
   "execution_count": 6,
   "metadata": {
    "tags": [],
    "vscode": {
     "languageId": "perl"
    }
   },
   "outputs": [],
   "source": [
    "output = util.gapfill_ensemble_model({\n",
    "    \"workspace\":151253,\n",
    "    \"model\":\"151253/Eco_RAST_Prokka_BlastKOALA_PTools_DeepEC_DeepGO.EnsembleMdl\",\n",
    "    \"atp_safe\":True,\n",
    "    \"forced_atp_list\":[],\n",
    "    \"suffix\":\".gf\",\n",
    "    \"media_list\":[\"KBaseMedia/Carbon-Acetoacetic-Acid\"],\n",
    "    \"templates\":None,\n",
    "    \"minimum_objective\":0.01,\n",
    "    \"reaction_exlusion_list\":[],\n",
    "    \"default_objective\":\"bio1\",\n",
    "    \"save_report_to_kbase\":False,\n",
    "    \"gapfilling_mode\":\"Cumulative\"\n",
    "})"
   ]
  },
  {
   "cell_type": "markdown",
   "metadata": {},
   "source": [
    "# Running flux balance analysis"
   ]
  },
  {
   "cell_type": "code",
   "execution_count": 4,
   "metadata": {
    "tags": [],
    "vscode": {
     "languageId": "perl"
    }
   },
   "outputs": [],
   "source": [
    "util.run_ensemble_fba({\n",
    "    \"workspace\":151253,\n",
    "    \"fbamodel_id\":\"151253/Eco_RAST_Prokka_BlastKOALA_PTools_DeepEC_DeepGO.EnsembleMdl.gf\",\n",
    "    \"fba_output_id\":\"EnsembleFBA\"\n",
    "\t\"media_list\":[],\n",
    "    \"maximize\":True,\n",
    "\t\"target_reactions\":[\"bio1\",1],\n",
    "\t\"thermodynamic_constraints\":False,\n",
    "\t\"fva\":True,\n",
    "\t\"pFBA\":True,\n",
    "\t\"simulate_all_ko\":False,\n",
    "\t\"feature_ko_list\":[],\n",
    "    \"reaction_ko_list\":[],\n",
    "\t\"media_supplement_list\"[],\n",
    "\t\"max_c_uptake\":None,\n",
    "    \"max_n_uptake\":None,\n",
    "\t\"max_p_uptake\":None,\n",
    "    \"max_s_uptake\":None,\n",
    "\t\"max_o_uptake\":None\n",
    "})"
   ]
  },
  {
   "cell_type": "markdown",
   "metadata": {},
   "source": [
    "# Extract models"
   ]
  },
  {
   "cell_type": "code",
   "execution_count": 5,
   "metadata": {
    "tags": []
   },
   "outputs": [],
   "source": [
    "util.extract_models_from_ensemble({\n",
    "    \"workspace\":151253,\n",
    "    \"model\":\"151253/Eco_RAST_Prokka_BlastKOALA_PTools_DeepEC_DeepGO.EnsembleMdl.gf\",\n",
    "    \"model_list\":[0]\n",
    "})"
   ]
  }
 ],
 "metadata": {
  "kernelspec": {
   "display_name": "base",
   "language": "python",
   "name": "python3"
  },
  "language_info": {
   "codemirror_mode": {
    "name": "ipython",
    "version": 3
   },
   "file_extension": ".py",
   "mimetype": "text/x-python",
   "name": "python",
   "nbconvert_exporter": "python",
   "pygments_lexer": "ipython3",
   "version": "3.9.13"
  }
 },
 "nbformat": 4,
 "nbformat_minor": 4
}
