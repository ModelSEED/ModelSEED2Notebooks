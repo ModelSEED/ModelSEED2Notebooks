{
 "cells": [
  {
   "cell_type": "markdown",
   "id": "47eab5e0",
   "metadata": {},
   "source": [
    "# Configure KBase Jupyter Dev Environment\n",
    "<sub><sup>(contact chenry@anl.gov with questions)</sub></sup>"
   ]
  },
  {
   "cell_type": "code",
   "execution_count": 1,
   "id": "1ab316e3-fb7d-4d10-b393-c8d597d4e9ef",
   "metadata": {
    "tags": [],
    "vscode": {
     "languageId": "perl"
    }
   },
   "outputs": [
    {
     "name": "stdout",
     "output_type": "stream",
     "text": [
      "python version 3.9.13\n",
      "KBBaseModules 0.0.1\n"
     ]
    },
    {
     "name": "stderr",
     "output_type": "stream",
     "text": [
      "1710997424.1750789 INFO: Note: NumExpr detected 16 cores but \"NUMEXPR_MAX_THREADS\" not set, so enforcing safe limit of 8.\n",
      "1710997424.175741 INFO: NumExpr defaulting to 8 threads.\n"
     ]
    },
    {
     "name": "stdout",
     "output_type": "stream",
     "text": [
      "modelseedpy 0.3.3\n",
      "cobrakbase 0.3.1\n",
      "Output files printed to:/Users/chenry/code/notebooks/ModelSEED2Notebooks/Analysis/nboutput when using KBDevUtils.output_dir\n"
     ]
    }
   ],
   "source": [
    "%run modelanalysisutil.py\n",
    "logger = logging.getLogger(__name__)\n",
    "logger.setLevel(logging.INFO)"
   ]
  },
  {
   "cell_type": "markdown",
   "id": "5346bf36",
   "metadata": {},
   "source": [
    "# Code for running flux balance analysis on a model"
   ]
  },
  {
   "cell_type": "code",
   "execution_count": 3,
   "id": "0e5f77cd-b2d1-453d-995c-da8e626eab72",
   "metadata": {
    "tags": [],
    "vscode": {
     "languageId": "perl"
    }
   },
   "outputs": [
    {
     "name": "stderr",
     "output_type": "stream",
     "text": [
      "1707799326.398928 INFO: metabolites 1517\n",
      "1707799326.73857 INFO: reactions 1650\n",
      "1707799327.6712651 INFO: Default biomass: [bio1]\n",
      "1707799328.924268 INFO: cpd15574 not found in model!\n",
      "1707799328.9249039 INFO: Media compound: cpd15574 not found in model.\n",
      "1707799328.925453 INFO: cpd03396 not found in model!\n",
      "1707799328.925822 INFO: Media compound: cpd03396 not found in model.\n",
      "1707799328.926406 INFO: cpd03387 not found in model!\n",
      "1707799328.926841 INFO: Media compound: cpd03387 not found in model.\n"
     ]
    },
    {
     "name": "stdout",
     "output_type": "stream",
     "text": [
      "1.4335119216836123\n"
     ]
    }
   ],
   "source": [
    "mdlutl = msrecon.get_model(\"151253/GCF_000005845.2.RAST.NewGMM.mdl\")#GCF_001421425.1.RAST.mdl\")\n",
    "#mdlutl.model.objective = \"rxn00062_c0\"\n",
    "media = msrecon.get_media(\"167956/NAGM9MinMedia\")#KBaseMedia/Carbon-D-Glucose\")\n",
    "mdlutl.pkgmgr.getpkg(\"KBaseMediaPkg\").build_package(media)\n",
    "print(str(mdlutl.model.slim_optimize()))"
   ]
  },
  {
   "cell_type": "markdown",
   "id": "96cb794e",
   "metadata": {},
   "source": [
    "# Code for running FBA on every media in a workspace"
   ]
  },
  {
   "cell_type": "code",
   "execution_count": 4,
   "id": "cb745efa",
   "metadata": {
    "vscode": {
     "languageId": "perl"
    }
   },
   "outputs": [
    {
     "name": "stderr",
     "output_type": "stream",
     "text": [
      "1707800161.014699 INFO: metabolites 1517\n",
      "1707800161.552093 INFO: reactions 1650\n",
      "1707800162.323498 INFO: Default biomass: [bio1]\n",
      "1707800162.876457 INFO: cpd15574 not found in model!\n",
      "1707800162.8774579 INFO: Media compound: cpd15574 not found in model.\n",
      "1707800162.8779159 INFO: cpd03396 not found in model!\n",
      "1707800162.878623 INFO: Media compound: cpd03396 not found in model.\n",
      "1707800162.879297 INFO: cpd03387 not found in model!\n",
      "1707800162.880256 INFO: Media compound: cpd03387 not found in model.\n"
     ]
    },
    {
     "name": "stdout",
     "output_type": "stream",
     "text": [
      "SucroseM9MinMedia 0.0\n"
     ]
    },
    {
     "name": "stderr",
     "output_type": "stream",
     "text": [
      "1707800163.3708649 INFO: cpd15574 not found in model!\n",
      "1707800163.371538 INFO: Media compound: cpd15574 not found in model.\n",
      "1707800163.371918 INFO: cpd03396 not found in model!\n",
      "1707800163.372288 INFO: Media compound: cpd03396 not found in model.\n",
      "1707800163.372926 INFO: cpd03387 not found in model!\n",
      "1707800163.373418 INFO: Media compound: cpd03387 not found in model.\n"
     ]
    },
    {
     "name": "stdout",
     "output_type": "stream",
     "text": [
      "ArabinoseM9MinMedia 0.9138202517788463\n"
     ]
    },
    {
     "name": "stderr",
     "output_type": "stream",
     "text": [
      "1707800163.809244 INFO: cpd15574 not found in model!\n",
      "1707800163.809888 INFO: Media compound: cpd15574 not found in model.\n",
      "1707800163.810317 INFO: cpd03396 not found in model!\n",
      "1707800163.810687 INFO: Media compound: cpd03396 not found in model.\n",
      "1707800163.8112829 INFO: cpd03387 not found in model!\n",
      "1707800163.811681 INFO: Media compound: cpd03387 not found in model.\n"
     ]
    },
    {
     "name": "stdout",
     "output_type": "stream",
     "text": [
      "FructoseM9MinMedia 1.1060921969991893\n"
     ]
    },
    {
     "name": "stderr",
     "output_type": "stream",
     "text": [
      "1707800164.14198 INFO: cpd15574 not found in model!\n",
      "1707800164.142545 INFO: Media compound: cpd15574 not found in model.\n",
      "1707800164.142986 INFO: cpd03396 not found in model!\n",
      "1707800164.1437702 INFO: Media compound: cpd03396 not found in model.\n",
      "1707800164.144864 INFO: cpd03387 not found in model!\n",
      "1707800164.145351 INFO: Media compound: cpd03387 not found in model.\n"
     ]
    },
    {
     "name": "stdout",
     "output_type": "stream",
     "text": [
      "GlutamateM9MinMedia 0.8349190611214371\n"
     ]
    },
    {
     "name": "stderr",
     "output_type": "stream",
     "text": [
      "1707800164.532067 INFO: cpd15574 not found in model!\n",
      "1707800164.5326579 INFO: Media compound: cpd15574 not found in model.\n",
      "1707800164.5330849 INFO: cpd03396 not found in model!\n",
      "1707800164.5334342 INFO: Media compound: cpd03396 not found in model.\n",
      "1707800164.534015 INFO: cpd03387 not found in model!\n",
      "1707800164.534443 INFO: Media compound: cpd03387 not found in model.\n"
     ]
    },
    {
     "name": "stdout",
     "output_type": "stream",
     "text": [
      "XyloseM9MinMedia 0.9138202517788434\n"
     ]
    },
    {
     "name": "stderr",
     "output_type": "stream",
     "text": [
      "1707800165.210913 INFO: cpd15574 not found in model!\n",
      "1707800165.211586 INFO: Media compound: cpd15574 not found in model.\n",
      "1707800165.212012 INFO: cpd03396 not found in model!\n",
      "1707800165.212542 INFO: Media compound: cpd03396 not found in model.\n",
      "1707800165.213244 INFO: cpd03387 not found in model!\n",
      "1707800165.213675 INFO: Media compound: cpd03387 not found in model.\n"
     ]
    },
    {
     "name": "stdout",
     "output_type": "stream",
     "text": [
      "MaltoseM9MinMedia 2.218281221875383\n"
     ]
    },
    {
     "name": "stderr",
     "output_type": "stream",
     "text": [
      "1707800165.56527 INFO: cpd15574 not found in model!\n",
      "1707800165.565944 INFO: Media compound: cpd15574 not found in model.\n",
      "1707800165.5663328 INFO: cpd03396 not found in model!\n",
      "1707800165.5666702 INFO: Media compound: cpd03396 not found in model.\n",
      "1707800165.56731 INFO: cpd03387 not found in model!\n",
      "1707800165.567849 INFO: Media compound: cpd03387 not found in model.\n"
     ]
    },
    {
     "name": "stdout",
     "output_type": "stream",
     "text": [
      "AlanineM9MinMedia 0.5113067703109457\n"
     ]
    },
    {
     "name": "stderr",
     "output_type": "stream",
     "text": [
      "1707800165.927352 INFO: cpd15574 not found in model!\n",
      "1707800165.927937 INFO: Media compound: cpd15574 not found in model.\n",
      "1707800165.928402 INFO: cpd03396 not found in model!\n",
      "1707800165.928829 INFO: Media compound: cpd03396 not found in model.\n",
      "1707800165.929494 INFO: cpd03387 not found in model!\n",
      "1707800165.930026 INFO: Media compound: cpd03387 not found in model.\n"
     ]
    },
    {
     "name": "stdout",
     "output_type": "stream",
     "text": [
      "GlycineM9MinMedia 0.25756379656673706\n"
     ]
    },
    {
     "name": "stderr",
     "output_type": "stream",
     "text": [
      "1707800166.505265 INFO: cpd15574 not found in model!\n",
      "1707800166.505923 INFO: Media compound: cpd15574 not found in model.\n",
      "1707800166.5063438 INFO: cpd03396 not found in model!\n",
      "1707800166.506787 INFO: Media compound: cpd03396 not found in model.\n",
      "1707800166.50744 INFO: cpd03387 not found in model!\n",
      "1707800166.507908 INFO: Media compound: cpd03387 not found in model.\n"
     ]
    },
    {
     "name": "stdout",
     "output_type": "stream",
     "text": [
      "SerineM9MinMedia 0.435841115946512\n"
     ]
    },
    {
     "name": "stderr",
     "output_type": "stream",
     "text": [
      "1707800166.827717 INFO: cpd15574 not found in model!\n",
      "1707800166.8282611 INFO: Media compound: cpd15574 not found in model.\n",
      "1707800166.828712 INFO: cpd03396 not found in model!\n",
      "1707800166.8291311 INFO: Media compound: cpd03396 not found in model.\n",
      "1707800166.829746 INFO: cpd03387 not found in model!\n",
      "1707800166.830244 INFO: Media compound: cpd03387 not found in model.\n"
     ]
    },
    {
     "name": "stdout",
     "output_type": "stream",
     "text": [
      "NAGM9MinMedia 1.433511921683624\n"
     ]
    },
    {
     "name": "stderr",
     "output_type": "stream",
     "text": [
      "1707800167.1639261 INFO: cpd15574 not found in model!\n",
      "1707800167.16448 INFO: Media compound: cpd15574 not found in model.\n",
      "1707800167.1648698 INFO: cpd03396 not found in model!\n",
      "1707800167.165206 INFO: Media compound: cpd03396 not found in model.\n",
      "1707800167.165618 INFO: cpd03387 not found in model!\n",
      "1707800167.166062 INFO: Media compound: cpd03387 not found in model.\n"
     ]
    },
    {
     "name": "stdout",
     "output_type": "stream",
     "text": [
      "GlucoseM9MinMedia 1.1091406109376933\n"
     ]
    }
   ],
   "source": [
    "media_ws = 167956\n",
    "model = \"151253/GCF_000005845.2.RAST.NewGMM.mdl\"\n",
    "mdlutl = msrecon.get_model(model)\n",
    "#mdlutl.model.objective = \"rxn00062_c0\"\n",
    "medias = msrecon.kbase_api.list_objects(media_ws, object_type=\"KBaseBiochem.Media\",include_metadata=True)\n",
    "for media_info in medias:\n",
    "    media = msrecon.get_media(str(media_ws)+\"/\"+media_info[1])\n",
    "    mdlutl.pkgmgr.getpkg(\"KBaseMediaPkg\").build_package(media)\n",
    "    print(media.id,str(mdlutl.model.slim_optimize()))"
   ]
  },
  {
   "cell_type": "markdown",
   "id": "5f572188",
   "metadata": {},
   "source": [
    "# Model Comparison"
   ]
  },
  {
   "cell_type": "code",
   "execution_count": null,
   "id": "210ef753",
   "metadata": {
    "vscode": {
     "languageId": "perl"
    }
   },
   "outputs": [],
   "source": [
    "#oldmodel = msrecon.get_model(\"151253/GCF_000005845.2.RAST.NewGMM.mdl\")\n",
    "oldmodel = model\n",
    "for rxn in oldmodel.model.reactions:\n",
    "    if rxn.id[0:3] != \"EX_\" and rxn.id in msgapfill.gfmodel.reactions:\n",
    "        if rxn.upper_bound != msgapfill.gfmodel.reactions.get_by_id(rxn.id).upper_bound:\n",
    "            print(rxn.id,\"Upper\",rxn.upper_bound,msgapfill.gfmodel.reactions.get_by_id(rxn.id).upper_bound)\n",
    "        if rxn.lower_bound != msgapfill.gfmodel.reactions.get_by_id(rxn.id).lower_bound:\n",
    "            print(rxn.id,\"Lower\",rxn.lower_bound,msgapfill.gfmodel.reactions.get_by_id(rxn.id).lower_bound)\n",
    "    elif rxn.id[0:3] != \"EX_\":\n",
    "        print(rxn.id,rxn.direction,\"missing new model\")\n",
    "for rxn in msgapfill.gfmodel.reactions:\n",
    "    if rxn.id not in oldmodel.model.reactions:\n",
    "        print(rxn.id,\" missing old model\")"
   ]
  },
  {
   "cell_type": "markdown",
   "id": "3a5c59eb",
   "metadata": {},
   "source": [
    "# Code for building an HTML report"
   ]
  },
  {
   "cell_type": "code",
   "execution_count": 2,
   "id": "faecb2a4-f1dc-4e87-b103-b14d25dbc605",
   "metadata": {
    "tags": [],
    "vscode": {
     "languageId": "perl"
    }
   },
   "outputs": [
    {
     "name": "stderr",
     "output_type": "stream",
     "text": [
      "1697049542.230461 INFO: metabolites 1586\n",
      "1697049542.838496 INFO: reactions 1642\n",
      "1697049543.3966238 INFO: The current solver interface glpk doesn't support setting the optimality tolerance.\n",
      "1697049544.4482696 INFO: Default biomass: [bio1]\n",
      "/scratch/shared/code/ModelSEEDpy/modelseedpy/core/msmodelreport.py:613: FutureWarning: this method is deprecated in favour of `Styler.to_html()`\n",
      "  f.write(model_summary_df_styled.render(escape=False))\n",
      "/scratch/shared/code/ModelSEEDpy/modelseedpy/core/msmodelreport.py:619: FutureWarning: this method is deprecated in favour of `Styler.to_html()`\n",
      "  f.write(gapfillings_analysis_df_styled.render(escape=False))\n",
      "/scratch/shared/code/ModelSEEDpy/modelseedpy/core/msmodelreport.py:630: FutureWarning: this method is deprecated in favour of `Styler.to_html()`\n",
      "  f.write(atp_analysis_df_styled.render(escape=False))\n"
     ]
    }
   ],
   "source": [
    "mdlutl = msrecon.get_model(\"151253/GCF_000005845.2.RAST.Complete.mdl\")\n",
    "repobj = MSModelReport(mdlutl)\n",
    "repobj.build_report(kbdevutil.out_dir()+\"test.html\")"
   ]
  },
  {
   "cell_type": "markdown",
   "id": "ae760700",
   "metadata": {},
   "source": [
    "# Comparing pangenome model with associated MAG models"
   ]
  },
  {
   "cell_type": "code",
   "execution_count": 6,
   "id": "d27a521b",
   "metadata": {},
   "outputs": [
    {
     "name": "stderr",
     "output_type": "stream",
     "text": [
      "1710907705.568705 INFO: metabolites 2030\n",
      "1710907706.648768 INFO: reactions 2463\n",
      "1710907708.045472 INFO: Default biomass: [bio1]\n",
      "1710907712.0879092 INFO: metabolites 1270\n",
      "1710907712.339692 INFO: reactions 1208\n",
      "1710907712.9769769 INFO: Default biomass: [bio1]\n",
      "1710907715.4726028 INFO: metabolites 1201\n",
      "1710907715.727753 INFO: reactions 1141\n",
      "1710907716.3162398 INFO: Default biomass: [bio1]\n",
      "1710907718.394442 INFO: metabolites 1436\n",
      "1710907718.6971 INFO: reactions 1387\n",
      "1710907719.384755 INFO: Default biomass: [bio1]\n",
      "1710907719.5108428 INFO: cpd00215 not found in model!\n",
      "1710907719.511511 INFO: Media compound: cpd00215 not found in model.\n",
      "1710907722.014883 INFO: metabolites 1227\n",
      "1710907722.264833 INFO: reactions 1171\n",
      "1710907722.8806999 INFO: Default biomass: [bio1]\n",
      "1710907724.725891 INFO: metabolites 1314\n",
      "1710907725.01522 INFO: reactions 1279\n",
      "1710907725.700279 INFO: Default biomass: [bio1]\n",
      "1710907726.345519 INFO: cpd00215 not found in model!\n",
      "1710907726.34624 INFO: Media compound: cpd00215 not found in model.\n",
      "1710907728.443054 INFO: metabolites 1341\n",
      "1710907728.773773 INFO: reactions 1344\n",
      "1710907729.534783 INFO: Default biomass: [bio1]\n",
      "1710907729.6668658 INFO: cpd00305 not found in model!\n",
      "1710907729.6674619 INFO: Media compound: cpd00305 not found in model.\n"
     ]
    }
   ],
   "source": [
    "from cobra.flux_analysis import pfba\n",
    "from optlang.symbolics import Zero, add\n",
    "clade_mag_mapping = util.kbdevutil.load(\"clade_mag_mapping\")\n",
    "records = []\n",
    "for clade in clade_mag_mapping:\n",
    "    mdlutl = util.msrecon.get_model(clade+\".genome.mdl\",174284)\n",
    "    gfcount = 0\n",
    "    for rxn in mdlutl.model.reactions:\n",
    "        if rxn.id[0:3] == \"rxn\" and rxn.probability == 0:\n",
    "            gfcount += 1\n",
    "    mdlutl.pkgmgr.getpkg(\"KBaseMediaPkg\").build_package(util.auxo_media)\n",
    "    mdlutl.pkgmgr.getpkg(\"ElementUptakePkg\").build_package({\"C\": 300})\n",
    "    mdlutl.model.objective = mdlutl.model.problem.Objective(Zero, direction=\"max\")\n",
    "    mdlutl.model.objective.set_linear_coefficients({mdlutl.model.reactions.bio1.forward_variable: 1})\n",
    "    growth = mdlutl.model.slim_optimize()\n",
    "    solution = pfba(mdlutl.model)\n",
    "    record = {\n",
    "        \"id\":clade,\n",
    "        \"clade\":clade,\n",
    "        \"reactions\":len(mdlutl.model.reactions),\n",
    "        \"genes\":len(mdlutl.model.genes),\n",
    "        \"gapfilling\":gfcount,\n",
    "        \"growth\":growth,\n",
    "        \"totalflux\":solution.objective_value\n",
    "    }\n",
    "    records.append(record)"
   ]
  },
  {
   "cell_type": "code",
   "execution_count": 3,
   "id": "829631d9",
   "metadata": {},
   "outputs": [
    {
     "name": "stderr",
     "output_type": "stream",
     "text": [
      "1710997098.707933 INFO: metabolites 943\n",
      "1710997098.8841002 INFO: reactions 801\n",
      "1710997099.439678 INFO: Default biomass: [bio1]\n",
      "1710997099.5579798 INFO: cpd00971 not found in model!\n",
      "1710997099.558531 INFO: Media compound: cpd00971 not found in model.\n",
      "1710997099.569282 INFO: cpd00635 not found in model!\n",
      "1710997099.570146 INFO: Media compound: cpd00635 not found in model.\n",
      "1710997105.750315 INFO: metabolites 978\n",
      "1710997105.9280372 INFO: reactions 831\n",
      "1710997106.5460968 INFO: Default biomass: [bio1]\n",
      "1710997106.65946 INFO: cpd00104 not found in model!\n",
      "1710997106.660131 INFO: Media compound: cpd00104 not found in model.\n"
     ]
    },
    {
     "ename": "KeyboardInterrupt",
     "evalue": "",
     "output_type": "error",
     "traceback": [
      "\u001b[0;31m---------------------------------------------------------------------------\u001b[0m",
      "\u001b[0;31mKeyboardInterrupt\u001b[0m                         Traceback (most recent call last)",
      "\u001b[0;32m/var/folders/ph/360gp1jx5zg7qyqv076prl240000gn/T/ipykernel_11996/3773498926.py\u001b[0m in \u001b[0;36m<module>\u001b[0;34m\u001b[0m\n\u001b[1;32m     16\u001b[0m     \u001b[0;32mfor\u001b[0m \u001b[0mmag\u001b[0m \u001b[0;32min\u001b[0m \u001b[0mclade_mag_mapping\u001b[0m\u001b[0;34m[\u001b[0m\u001b[0mclade\u001b[0m\u001b[0;34m]\u001b[0m\u001b[0;34m:\u001b[0m\u001b[0;34m\u001b[0m\u001b[0;34m\u001b[0m\u001b[0m\n\u001b[1;32m     17\u001b[0m         \u001b[0;32mif\u001b[0m \u001b[0mmag\u001b[0m \u001b[0;32mnot\u001b[0m \u001b[0;32min\u001b[0m \u001b[0mmag_data\u001b[0m \u001b[0;32mand\u001b[0m \u001b[0mmag\u001b[0m \u001b[0;32min\u001b[0m \u001b[0mmodel_hash\u001b[0m\u001b[0;34m:\u001b[0m\u001b[0;34m\u001b[0m\u001b[0;34m\u001b[0m\u001b[0m\n\u001b[0;32m---> 18\u001b[0;31m             \u001b[0mmdlutl\u001b[0m \u001b[0;34m=\u001b[0m \u001b[0mutil\u001b[0m\u001b[0;34m.\u001b[0m\u001b[0mmsrecon\u001b[0m\u001b[0;34m.\u001b[0m\u001b[0mget_model\u001b[0m\u001b[0;34m(\u001b[0m\u001b[0mmodel_hash\u001b[0m\u001b[0;34m[\u001b[0m\u001b[0mmag\u001b[0m\u001b[0;34m]\u001b[0m\u001b[0;34m[\u001b[0m\u001b[0;36m1\u001b[0m\u001b[0;34m]\u001b[0m\u001b[0;34m,\u001b[0m\u001b[0mmodel_hash\u001b[0m\u001b[0;34m[\u001b[0m\u001b[0mmag\u001b[0m\u001b[0;34m]\u001b[0m\u001b[0;34m[\u001b[0m\u001b[0;36m0\u001b[0m\u001b[0;34m]\u001b[0m\u001b[0;34m)\u001b[0m\u001b[0;34m\u001b[0m\u001b[0;34m\u001b[0m\u001b[0m\n\u001b[0m\u001b[1;32m     19\u001b[0m             \u001b[0mgfcount\u001b[0m \u001b[0;34m=\u001b[0m \u001b[0;36m0\u001b[0m\u001b[0;34m\u001b[0m\u001b[0;34m\u001b[0m\u001b[0m\n\u001b[1;32m     20\u001b[0m             \u001b[0;32mfor\u001b[0m \u001b[0mrxn\u001b[0m \u001b[0;32min\u001b[0m \u001b[0mmdlutl\u001b[0m\u001b[0;34m.\u001b[0m\u001b[0mmodel\u001b[0m\u001b[0;34m.\u001b[0m\u001b[0mreactions\u001b[0m\u001b[0;34m:\u001b[0m\u001b[0;34m\u001b[0m\u001b[0;34m\u001b[0m\u001b[0m\n",
      "\u001b[0;32m~/code//KBBaseModules/kbbasemodules/basemodelingmodule.py\u001b[0m in \u001b[0;36mget_model\u001b[0;34m(self, id_or_ref, ws, is_json_file)\u001b[0m\n\u001b[1;32m    105\u001b[0m         \u001b[0;32mif\u001b[0m \u001b[0mis_json_file\u001b[0m\u001b[0;34m:\u001b[0m\u001b[0;34m\u001b[0m\u001b[0;34m\u001b[0m\u001b[0m\n\u001b[1;32m    106\u001b[0m             \u001b[0;32mreturn\u001b[0m \u001b[0mMSModelUtil\u001b[0m\u001b[0;34m.\u001b[0m\u001b[0mbuild_from_kbase_json_file\u001b[0m\u001b[0;34m(\u001b[0m\u001b[0mid_or_ref\u001b[0m\u001b[0;34m)\u001b[0m\u001b[0;34m\u001b[0m\u001b[0;34m\u001b[0m\u001b[0m\n\u001b[0;32m--> 107\u001b[0;31m         \u001b[0mmdlutl\u001b[0m \u001b[0;34m=\u001b[0m \u001b[0mMSModelUtil\u001b[0m\u001b[0;34m(\u001b[0m\u001b[0mself\u001b[0m\u001b[0;34m.\u001b[0m\u001b[0mkbase_api\u001b[0m\u001b[0;34m.\u001b[0m\u001b[0mget_from_ws\u001b[0m\u001b[0;34m(\u001b[0m\u001b[0mid_or_ref\u001b[0m\u001b[0;34m,\u001b[0m\u001b[0mws\u001b[0m\u001b[0;34m)\u001b[0m\u001b[0;34m)\u001b[0m\u001b[0;34m\u001b[0m\u001b[0;34m\u001b[0m\u001b[0m\n\u001b[0m\u001b[1;32m    108\u001b[0m         \u001b[0mmdlutl\u001b[0m\u001b[0;34m.\u001b[0m\u001b[0mwsid\u001b[0m \u001b[0;34m=\u001b[0m \u001b[0mmdlutl\u001b[0m\u001b[0;34m.\u001b[0m\u001b[0mmodel\u001b[0m\u001b[0;34m.\u001b[0m\u001b[0minfo\u001b[0m\u001b[0;34m.\u001b[0m\u001b[0mid\u001b[0m\u001b[0;34m\u001b[0m\u001b[0;34m\u001b[0m\u001b[0m\n\u001b[1;32m    109\u001b[0m         \u001b[0mself\u001b[0m\u001b[0;34m.\u001b[0m\u001b[0minput_objects\u001b[0m\u001b[0;34m.\u001b[0m\u001b[0mappend\u001b[0m\u001b[0;34m(\u001b[0m\u001b[0mmdlutl\u001b[0m\u001b[0;34m.\u001b[0m\u001b[0mmodel\u001b[0m\u001b[0;34m.\u001b[0m\u001b[0minfo\u001b[0m\u001b[0;34m.\u001b[0m\u001b[0mreference\u001b[0m\u001b[0;34m)\u001b[0m\u001b[0;34m\u001b[0m\u001b[0;34m\u001b[0m\u001b[0m\n",
      "\u001b[0;32m~/code//cobrakbase/cobrakbase/kbaseapi.py\u001b[0m in \u001b[0;36mget_from_ws\u001b[0;34m(self, id_or_ref, workspace)\u001b[0m\n\u001b[1;32m    217\u001b[0m \u001b[0;34m\u001b[0m\u001b[0m\n\u001b[1;32m    218\u001b[0m     \u001b[0;32mdef\u001b[0m \u001b[0mget_from_ws\u001b[0m\u001b[0;34m(\u001b[0m\u001b[0mself\u001b[0m\u001b[0;34m,\u001b[0m \u001b[0mid_or_ref\u001b[0m\u001b[0;34m,\u001b[0m \u001b[0mworkspace\u001b[0m\u001b[0;34m=\u001b[0m\u001b[0;32mNone\u001b[0m\u001b[0;34m)\u001b[0m\u001b[0;34m:\u001b[0m\u001b[0;34m\u001b[0m\u001b[0;34m\u001b[0m\u001b[0m\n\u001b[0;32m--> 219\u001b[0;31m         res = self.get_objects2(\n\u001b[0m\u001b[1;32m    220\u001b[0m             \u001b[0;34m{\u001b[0m\u001b[0;34m\"objects\"\u001b[0m\u001b[0;34m:\u001b[0m \u001b[0;34m[\u001b[0m\u001b[0mself\u001b[0m\u001b[0;34m.\u001b[0m\u001b[0mprocess_workspace_identifiers\u001b[0m\u001b[0;34m(\u001b[0m\u001b[0mid_or_ref\u001b[0m\u001b[0;34m,\u001b[0m \u001b[0mworkspace\u001b[0m\u001b[0;34m)\u001b[0m\u001b[0;34m]\u001b[0m\u001b[0;34m}\u001b[0m\u001b[0;34m\u001b[0m\u001b[0;34m\u001b[0m\u001b[0m\n\u001b[1;32m    221\u001b[0m         )\n",
      "\u001b[0;32m~/code//cobrakbase/cobrakbase/kbaseapi.py\u001b[0m in \u001b[0;36mget_objects2\u001b[0;34m(self, args)\u001b[0m\n\u001b[1;32m    187\u001b[0m         \u001b[0;32mwhile\u001b[0m \u001b[0mtries\u001b[0m \u001b[0;34m<\u001b[0m \u001b[0mself\u001b[0m\u001b[0;34m.\u001b[0m\u001b[0mmax_retry\u001b[0m\u001b[0;34m:\u001b[0m\u001b[0;34m\u001b[0m\u001b[0;34m\u001b[0m\u001b[0m\n\u001b[1;32m    188\u001b[0m             \u001b[0;32mtry\u001b[0m\u001b[0;34m:\u001b[0m\u001b[0;34m\u001b[0m\u001b[0;34m\u001b[0m\u001b[0m\n\u001b[0;32m--> 189\u001b[0;31m                 \u001b[0;32mreturn\u001b[0m \u001b[0mself\u001b[0m\u001b[0;34m.\u001b[0m\u001b[0mws_client\u001b[0m\u001b[0;34m.\u001b[0m\u001b[0mget_objects2\u001b[0m\u001b[0;34m(\u001b[0m\u001b[0margs\u001b[0m\u001b[0;34m)\u001b[0m\u001b[0;34m\u001b[0m\u001b[0;34m\u001b[0m\u001b[0m\n\u001b[0m\u001b[1;32m    190\u001b[0m             \u001b[0;32mexcept\u001b[0m \u001b[0mServerError\u001b[0m \u001b[0;32mas\u001b[0m \u001b[0me\u001b[0m\u001b[0;34m:\u001b[0m\u001b[0;34m\u001b[0m\u001b[0;34m\u001b[0m\u001b[0m\n\u001b[1;32m    191\u001b[0m                 \u001b[0;32mif\u001b[0m \u001b[0me\u001b[0m\u001b[0;34m.\u001b[0m\u001b[0mcode\u001b[0m \u001b[0;34m==\u001b[0m \u001b[0;34m-\u001b[0m\u001b[0;36m32400\u001b[0m\u001b[0;34m:\u001b[0m\u001b[0;34m\u001b[0m\u001b[0;34m\u001b[0m\u001b[0m\n",
      "\u001b[0;32m~/code//chenry_utility_module/lib/installed_clients/WorkspaceClient.py\u001b[0m in \u001b[0;36mget_objects2\u001b[0;34m(self, params, context)\u001b[0m\n\u001b[1;32m   1957\u001b[0m            \u001b[0;34m\"handle_stacktrace\"\u001b[0m \u001b[0mof\u001b[0m \u001b[0mString\u001b[0m\u001b[0;34m\u001b[0m\u001b[0;34m\u001b[0m\u001b[0m\n\u001b[1;32m   1958\u001b[0m         \"\"\"\n\u001b[0;32m-> 1959\u001b[0;31m         return self._client.call_method('Workspace.get_objects2',\n\u001b[0m\u001b[1;32m   1960\u001b[0m                                         [params], self._service_ver, context)\n\u001b[1;32m   1961\u001b[0m \u001b[0;34m\u001b[0m\u001b[0m\n",
      "\u001b[0;32m~/code//chenry_utility_module/lib/installed_clients/baseclient.py\u001b[0m in \u001b[0;36mcall_method\u001b[0;34m(self, service_method, args, service_ver, context)\u001b[0m\n\u001b[1;32m    280\u001b[0m         \u001b[0murl\u001b[0m \u001b[0;34m=\u001b[0m \u001b[0mself\u001b[0m\u001b[0;34m.\u001b[0m\u001b[0m_get_service_url\u001b[0m\u001b[0;34m(\u001b[0m\u001b[0mservice_method\u001b[0m\u001b[0;34m,\u001b[0m \u001b[0mservice_ver\u001b[0m\u001b[0;34m)\u001b[0m\u001b[0;34m\u001b[0m\u001b[0;34m\u001b[0m\u001b[0m\n\u001b[1;32m    281\u001b[0m         \u001b[0mcontext\u001b[0m \u001b[0;34m=\u001b[0m \u001b[0mself\u001b[0m\u001b[0;34m.\u001b[0m\u001b[0m_set_up_context\u001b[0m\u001b[0;34m(\u001b[0m\u001b[0mservice_ver\u001b[0m\u001b[0;34m,\u001b[0m \u001b[0mcontext\u001b[0m\u001b[0;34m)\u001b[0m\u001b[0;34m\u001b[0m\u001b[0;34m\u001b[0m\u001b[0m\n\u001b[0;32m--> 282\u001b[0;31m         \u001b[0;32mreturn\u001b[0m \u001b[0mself\u001b[0m\u001b[0;34m.\u001b[0m\u001b[0m_call\u001b[0m\u001b[0;34m(\u001b[0m\u001b[0murl\u001b[0m\u001b[0;34m,\u001b[0m \u001b[0mservice_method\u001b[0m\u001b[0;34m,\u001b[0m \u001b[0margs\u001b[0m\u001b[0;34m,\u001b[0m \u001b[0mcontext\u001b[0m\u001b[0;34m)\u001b[0m\u001b[0;34m\u001b[0m\u001b[0;34m\u001b[0m\u001b[0m\n\u001b[0m",
      "\u001b[0;32m~/code//chenry_utility_module/lib/installed_clients/baseclient.py\u001b[0m in \u001b[0;36m_call\u001b[0;34m(self, url, method, params, context)\u001b[0m\n\u001b[1;32m    177\u001b[0m \u001b[0;34m\u001b[0m\u001b[0m\n\u001b[1;32m    178\u001b[0m         \u001b[0mbody\u001b[0m \u001b[0;34m=\u001b[0m \u001b[0m_json\u001b[0m\u001b[0;34m.\u001b[0m\u001b[0mdumps\u001b[0m\u001b[0;34m(\u001b[0m\u001b[0marg_hash\u001b[0m\u001b[0;34m,\u001b[0m \u001b[0mcls\u001b[0m\u001b[0;34m=\u001b[0m\u001b[0m_JSONObjectEncoder\u001b[0m\u001b[0;34m)\u001b[0m\u001b[0;34m\u001b[0m\u001b[0;34m\u001b[0m\u001b[0m\n\u001b[0;32m--> 179\u001b[0;31m         ret = _requests.post(url, data=body, headers=self._headers,\n\u001b[0m\u001b[1;32m    180\u001b[0m                              \u001b[0mtimeout\u001b[0m\u001b[0;34m=\u001b[0m\u001b[0mself\u001b[0m\u001b[0;34m.\u001b[0m\u001b[0mtimeout\u001b[0m\u001b[0;34m,\u001b[0m\u001b[0;34m\u001b[0m\u001b[0;34m\u001b[0m\u001b[0m\n\u001b[1;32m    181\u001b[0m                              verify=not self.trust_all_ssl_certificates)\n",
      "\u001b[0;32m~/opt/anaconda3/lib/python3.9/site-packages/requests/api.py\u001b[0m in \u001b[0;36mpost\u001b[0;34m(url, data, json, **kwargs)\u001b[0m\n\u001b[1;32m    113\u001b[0m     \"\"\"\n\u001b[1;32m    114\u001b[0m \u001b[0;34m\u001b[0m\u001b[0m\n\u001b[0;32m--> 115\u001b[0;31m     \u001b[0;32mreturn\u001b[0m \u001b[0mrequest\u001b[0m\u001b[0;34m(\u001b[0m\u001b[0;34m\"post\"\u001b[0m\u001b[0;34m,\u001b[0m \u001b[0murl\u001b[0m\u001b[0;34m,\u001b[0m \u001b[0mdata\u001b[0m\u001b[0;34m=\u001b[0m\u001b[0mdata\u001b[0m\u001b[0;34m,\u001b[0m \u001b[0mjson\u001b[0m\u001b[0;34m=\u001b[0m\u001b[0mjson\u001b[0m\u001b[0;34m,\u001b[0m \u001b[0;34m**\u001b[0m\u001b[0mkwargs\u001b[0m\u001b[0;34m)\u001b[0m\u001b[0;34m\u001b[0m\u001b[0;34m\u001b[0m\u001b[0m\n\u001b[0m\u001b[1;32m    116\u001b[0m \u001b[0;34m\u001b[0m\u001b[0m\n\u001b[1;32m    117\u001b[0m \u001b[0;34m\u001b[0m\u001b[0m\n",
      "\u001b[0;32m~/opt/anaconda3/lib/python3.9/site-packages/requests/api.py\u001b[0m in \u001b[0;36mrequest\u001b[0;34m(method, url, **kwargs)\u001b[0m\n\u001b[1;32m     57\u001b[0m     \u001b[0;31m# cases, and look like a memory leak in others.\u001b[0m\u001b[0;34m\u001b[0m\u001b[0;34m\u001b[0m\u001b[0m\n\u001b[1;32m     58\u001b[0m     \u001b[0;32mwith\u001b[0m \u001b[0msessions\u001b[0m\u001b[0;34m.\u001b[0m\u001b[0mSession\u001b[0m\u001b[0;34m(\u001b[0m\u001b[0;34m)\u001b[0m \u001b[0;32mas\u001b[0m \u001b[0msession\u001b[0m\u001b[0;34m:\u001b[0m\u001b[0;34m\u001b[0m\u001b[0;34m\u001b[0m\u001b[0m\n\u001b[0;32m---> 59\u001b[0;31m         \u001b[0;32mreturn\u001b[0m \u001b[0msession\u001b[0m\u001b[0;34m.\u001b[0m\u001b[0mrequest\u001b[0m\u001b[0;34m(\u001b[0m\u001b[0mmethod\u001b[0m\u001b[0;34m=\u001b[0m\u001b[0mmethod\u001b[0m\u001b[0;34m,\u001b[0m \u001b[0murl\u001b[0m\u001b[0;34m=\u001b[0m\u001b[0murl\u001b[0m\u001b[0;34m,\u001b[0m \u001b[0;34m**\u001b[0m\u001b[0mkwargs\u001b[0m\u001b[0;34m)\u001b[0m\u001b[0;34m\u001b[0m\u001b[0;34m\u001b[0m\u001b[0m\n\u001b[0m\u001b[1;32m     60\u001b[0m \u001b[0;34m\u001b[0m\u001b[0m\n\u001b[1;32m     61\u001b[0m \u001b[0;34m\u001b[0m\u001b[0m\n",
      "\u001b[0;32m~/opt/anaconda3/lib/python3.9/site-packages/requests/sessions.py\u001b[0m in \u001b[0;36mrequest\u001b[0;34m(self, method, url, params, data, headers, cookies, files, auth, timeout, allow_redirects, proxies, hooks, stream, verify, cert, json)\u001b[0m\n\u001b[1;32m    585\u001b[0m         }\n\u001b[1;32m    586\u001b[0m         \u001b[0msend_kwargs\u001b[0m\u001b[0;34m.\u001b[0m\u001b[0mupdate\u001b[0m\u001b[0;34m(\u001b[0m\u001b[0msettings\u001b[0m\u001b[0;34m)\u001b[0m\u001b[0;34m\u001b[0m\u001b[0;34m\u001b[0m\u001b[0m\n\u001b[0;32m--> 587\u001b[0;31m         \u001b[0mresp\u001b[0m \u001b[0;34m=\u001b[0m \u001b[0mself\u001b[0m\u001b[0;34m.\u001b[0m\u001b[0msend\u001b[0m\u001b[0;34m(\u001b[0m\u001b[0mprep\u001b[0m\u001b[0;34m,\u001b[0m \u001b[0;34m**\u001b[0m\u001b[0msend_kwargs\u001b[0m\u001b[0;34m)\u001b[0m\u001b[0;34m\u001b[0m\u001b[0;34m\u001b[0m\u001b[0m\n\u001b[0m\u001b[1;32m    588\u001b[0m \u001b[0;34m\u001b[0m\u001b[0m\n\u001b[1;32m    589\u001b[0m         \u001b[0;32mreturn\u001b[0m \u001b[0mresp\u001b[0m\u001b[0;34m\u001b[0m\u001b[0;34m\u001b[0m\u001b[0m\n",
      "\u001b[0;32m~/opt/anaconda3/lib/python3.9/site-packages/requests/sessions.py\u001b[0m in \u001b[0;36msend\u001b[0;34m(self, request, **kwargs)\u001b[0m\n\u001b[1;32m    699\u001b[0m \u001b[0;34m\u001b[0m\u001b[0m\n\u001b[1;32m    700\u001b[0m         \u001b[0;31m# Send the request\u001b[0m\u001b[0;34m\u001b[0m\u001b[0;34m\u001b[0m\u001b[0m\n\u001b[0;32m--> 701\u001b[0;31m         \u001b[0mr\u001b[0m \u001b[0;34m=\u001b[0m \u001b[0madapter\u001b[0m\u001b[0;34m.\u001b[0m\u001b[0msend\u001b[0m\u001b[0;34m(\u001b[0m\u001b[0mrequest\u001b[0m\u001b[0;34m,\u001b[0m \u001b[0;34m**\u001b[0m\u001b[0mkwargs\u001b[0m\u001b[0;34m)\u001b[0m\u001b[0;34m\u001b[0m\u001b[0;34m\u001b[0m\u001b[0m\n\u001b[0m\u001b[1;32m    702\u001b[0m \u001b[0;34m\u001b[0m\u001b[0m\n\u001b[1;32m    703\u001b[0m         \u001b[0;31m# Total elapsed time of the request (approximately)\u001b[0m\u001b[0;34m\u001b[0m\u001b[0;34m\u001b[0m\u001b[0m\n",
      "\u001b[0;32m~/opt/anaconda3/lib/python3.9/site-packages/requests/adapters.py\u001b[0m in \u001b[0;36msend\u001b[0;34m(self, request, stream, timeout, verify, cert, proxies)\u001b[0m\n\u001b[1;32m    487\u001b[0m         \u001b[0;32mtry\u001b[0m\u001b[0;34m:\u001b[0m\u001b[0;34m\u001b[0m\u001b[0;34m\u001b[0m\u001b[0m\n\u001b[1;32m    488\u001b[0m             \u001b[0;32mif\u001b[0m \u001b[0;32mnot\u001b[0m \u001b[0mchunked\u001b[0m\u001b[0;34m:\u001b[0m\u001b[0;34m\u001b[0m\u001b[0;34m\u001b[0m\u001b[0m\n\u001b[0;32m--> 489\u001b[0;31m                 resp = conn.urlopen(\n\u001b[0m\u001b[1;32m    490\u001b[0m                     \u001b[0mmethod\u001b[0m\u001b[0;34m=\u001b[0m\u001b[0mrequest\u001b[0m\u001b[0;34m.\u001b[0m\u001b[0mmethod\u001b[0m\u001b[0;34m,\u001b[0m\u001b[0;34m\u001b[0m\u001b[0;34m\u001b[0m\u001b[0m\n\u001b[1;32m    491\u001b[0m                     \u001b[0murl\u001b[0m\u001b[0;34m=\u001b[0m\u001b[0murl\u001b[0m\u001b[0;34m,\u001b[0m\u001b[0;34m\u001b[0m\u001b[0;34m\u001b[0m\u001b[0m\n",
      "\u001b[0;32m~/opt/anaconda3/lib/python3.9/site-packages/urllib3/connectionpool.py\u001b[0m in \u001b[0;36murlopen\u001b[0;34m(self, method, url, body, headers, retries, redirect, assert_same_host, timeout, pool_timeout, release_conn, chunked, body_pos, **response_kw)\u001b[0m\n\u001b[1;32m    701\u001b[0m \u001b[0;34m\u001b[0m\u001b[0m\n\u001b[1;32m    702\u001b[0m             \u001b[0;31m# Make the request on the httplib connection object.\u001b[0m\u001b[0;34m\u001b[0m\u001b[0;34m\u001b[0m\u001b[0m\n\u001b[0;32m--> 703\u001b[0;31m             httplib_response = self._make_request(\n\u001b[0m\u001b[1;32m    704\u001b[0m                 \u001b[0mconn\u001b[0m\u001b[0;34m,\u001b[0m\u001b[0;34m\u001b[0m\u001b[0;34m\u001b[0m\u001b[0m\n\u001b[1;32m    705\u001b[0m                 \u001b[0mmethod\u001b[0m\u001b[0;34m,\u001b[0m\u001b[0;34m\u001b[0m\u001b[0;34m\u001b[0m\u001b[0m\n",
      "\u001b[0;32m~/opt/anaconda3/lib/python3.9/site-packages/urllib3/connectionpool.py\u001b[0m in \u001b[0;36m_make_request\u001b[0;34m(self, conn, method, url, timeout, chunked, **httplib_request_kw)\u001b[0m\n\u001b[1;32m    447\u001b[0m                     \u001b[0;31m# Python 3 (including for exceptions like SystemExit).\u001b[0m\u001b[0;34m\u001b[0m\u001b[0;34m\u001b[0m\u001b[0m\n\u001b[1;32m    448\u001b[0m                     \u001b[0;31m# Otherwise it looks like a bug in the code.\u001b[0m\u001b[0;34m\u001b[0m\u001b[0;34m\u001b[0m\u001b[0m\n\u001b[0;32m--> 449\u001b[0;31m                     \u001b[0msix\u001b[0m\u001b[0;34m.\u001b[0m\u001b[0mraise_from\u001b[0m\u001b[0;34m(\u001b[0m\u001b[0me\u001b[0m\u001b[0;34m,\u001b[0m \u001b[0;32mNone\u001b[0m\u001b[0;34m)\u001b[0m\u001b[0;34m\u001b[0m\u001b[0;34m\u001b[0m\u001b[0m\n\u001b[0m\u001b[1;32m    450\u001b[0m         \u001b[0;32mexcept\u001b[0m \u001b[0;34m(\u001b[0m\u001b[0mSocketTimeout\u001b[0m\u001b[0;34m,\u001b[0m \u001b[0mBaseSSLError\u001b[0m\u001b[0;34m,\u001b[0m \u001b[0mSocketError\u001b[0m\u001b[0;34m)\u001b[0m \u001b[0;32mas\u001b[0m \u001b[0me\u001b[0m\u001b[0;34m:\u001b[0m\u001b[0;34m\u001b[0m\u001b[0;34m\u001b[0m\u001b[0m\n\u001b[1;32m    451\u001b[0m             \u001b[0mself\u001b[0m\u001b[0;34m.\u001b[0m\u001b[0m_raise_timeout\u001b[0m\u001b[0;34m(\u001b[0m\u001b[0merr\u001b[0m\u001b[0;34m=\u001b[0m\u001b[0me\u001b[0m\u001b[0;34m,\u001b[0m \u001b[0murl\u001b[0m\u001b[0;34m=\u001b[0m\u001b[0murl\u001b[0m\u001b[0;34m,\u001b[0m \u001b[0mtimeout_value\u001b[0m\u001b[0;34m=\u001b[0m\u001b[0mread_timeout\u001b[0m\u001b[0;34m)\u001b[0m\u001b[0;34m\u001b[0m\u001b[0;34m\u001b[0m\u001b[0m\n",
      "\u001b[0;32m~/opt/anaconda3/lib/python3.9/site-packages/urllib3/packages/six.py\u001b[0m in \u001b[0;36mraise_from\u001b[0;34m(value, from_value)\u001b[0m\n",
      "\u001b[0;32m~/opt/anaconda3/lib/python3.9/site-packages/urllib3/connectionpool.py\u001b[0m in \u001b[0;36m_make_request\u001b[0;34m(self, conn, method, url, timeout, chunked, **httplib_request_kw)\u001b[0m\n\u001b[1;32m    442\u001b[0m                 \u001b[0;31m# Python 3\u001b[0m\u001b[0;34m\u001b[0m\u001b[0;34m\u001b[0m\u001b[0m\n\u001b[1;32m    443\u001b[0m                 \u001b[0;32mtry\u001b[0m\u001b[0;34m:\u001b[0m\u001b[0;34m\u001b[0m\u001b[0;34m\u001b[0m\u001b[0m\n\u001b[0;32m--> 444\u001b[0;31m                     \u001b[0mhttplib_response\u001b[0m \u001b[0;34m=\u001b[0m \u001b[0mconn\u001b[0m\u001b[0;34m.\u001b[0m\u001b[0mgetresponse\u001b[0m\u001b[0;34m(\u001b[0m\u001b[0;34m)\u001b[0m\u001b[0;34m\u001b[0m\u001b[0;34m\u001b[0m\u001b[0m\n\u001b[0m\u001b[1;32m    445\u001b[0m                 \u001b[0;32mexcept\u001b[0m \u001b[0mBaseException\u001b[0m \u001b[0;32mas\u001b[0m \u001b[0me\u001b[0m\u001b[0;34m:\u001b[0m\u001b[0;34m\u001b[0m\u001b[0;34m\u001b[0m\u001b[0m\n\u001b[1;32m    446\u001b[0m                     \u001b[0;31m# Remove the TypeError from the exception chain in\u001b[0m\u001b[0;34m\u001b[0m\u001b[0;34m\u001b[0m\u001b[0m\n",
      "\u001b[0;32m~/opt/anaconda3/lib/python3.9/http/client.py\u001b[0m in \u001b[0;36mgetresponse\u001b[0;34m(self)\u001b[0m\n\u001b[1;32m   1375\u001b[0m         \u001b[0;32mtry\u001b[0m\u001b[0;34m:\u001b[0m\u001b[0;34m\u001b[0m\u001b[0;34m\u001b[0m\u001b[0m\n\u001b[1;32m   1376\u001b[0m             \u001b[0;32mtry\u001b[0m\u001b[0;34m:\u001b[0m\u001b[0;34m\u001b[0m\u001b[0;34m\u001b[0m\u001b[0m\n\u001b[0;32m-> 1377\u001b[0;31m                 \u001b[0mresponse\u001b[0m\u001b[0;34m.\u001b[0m\u001b[0mbegin\u001b[0m\u001b[0;34m(\u001b[0m\u001b[0;34m)\u001b[0m\u001b[0;34m\u001b[0m\u001b[0;34m\u001b[0m\u001b[0m\n\u001b[0m\u001b[1;32m   1378\u001b[0m             \u001b[0;32mexcept\u001b[0m \u001b[0mConnectionError\u001b[0m\u001b[0;34m:\u001b[0m\u001b[0;34m\u001b[0m\u001b[0;34m\u001b[0m\u001b[0m\n\u001b[1;32m   1379\u001b[0m                 \u001b[0mself\u001b[0m\u001b[0;34m.\u001b[0m\u001b[0mclose\u001b[0m\u001b[0;34m(\u001b[0m\u001b[0;34m)\u001b[0m\u001b[0;34m\u001b[0m\u001b[0;34m\u001b[0m\u001b[0m\n",
      "\u001b[0;32m~/opt/anaconda3/lib/python3.9/http/client.py\u001b[0m in \u001b[0;36mbegin\u001b[0;34m(self)\u001b[0m\n\u001b[1;32m    318\u001b[0m         \u001b[0;31m# read until we get a non-100 response\u001b[0m\u001b[0;34m\u001b[0m\u001b[0;34m\u001b[0m\u001b[0m\n\u001b[1;32m    319\u001b[0m         \u001b[0;32mwhile\u001b[0m \u001b[0;32mTrue\u001b[0m\u001b[0;34m:\u001b[0m\u001b[0;34m\u001b[0m\u001b[0;34m\u001b[0m\u001b[0m\n\u001b[0;32m--> 320\u001b[0;31m             \u001b[0mversion\u001b[0m\u001b[0;34m,\u001b[0m \u001b[0mstatus\u001b[0m\u001b[0;34m,\u001b[0m \u001b[0mreason\u001b[0m \u001b[0;34m=\u001b[0m \u001b[0mself\u001b[0m\u001b[0;34m.\u001b[0m\u001b[0m_read_status\u001b[0m\u001b[0;34m(\u001b[0m\u001b[0;34m)\u001b[0m\u001b[0;34m\u001b[0m\u001b[0;34m\u001b[0m\u001b[0m\n\u001b[0m\u001b[1;32m    321\u001b[0m             \u001b[0;32mif\u001b[0m \u001b[0mstatus\u001b[0m \u001b[0;34m!=\u001b[0m \u001b[0mCONTINUE\u001b[0m\u001b[0;34m:\u001b[0m\u001b[0;34m\u001b[0m\u001b[0;34m\u001b[0m\u001b[0m\n\u001b[1;32m    322\u001b[0m                 \u001b[0;32mbreak\u001b[0m\u001b[0;34m\u001b[0m\u001b[0;34m\u001b[0m\u001b[0m\n",
      "\u001b[0;32m~/opt/anaconda3/lib/python3.9/http/client.py\u001b[0m in \u001b[0;36m_read_status\u001b[0;34m(self)\u001b[0m\n\u001b[1;32m    279\u001b[0m \u001b[0;34m\u001b[0m\u001b[0m\n\u001b[1;32m    280\u001b[0m     \u001b[0;32mdef\u001b[0m \u001b[0m_read_status\u001b[0m\u001b[0;34m(\u001b[0m\u001b[0mself\u001b[0m\u001b[0;34m)\u001b[0m\u001b[0;34m:\u001b[0m\u001b[0;34m\u001b[0m\u001b[0;34m\u001b[0m\u001b[0m\n\u001b[0;32m--> 281\u001b[0;31m         \u001b[0mline\u001b[0m \u001b[0;34m=\u001b[0m \u001b[0mstr\u001b[0m\u001b[0;34m(\u001b[0m\u001b[0mself\u001b[0m\u001b[0;34m.\u001b[0m\u001b[0mfp\u001b[0m\u001b[0;34m.\u001b[0m\u001b[0mreadline\u001b[0m\u001b[0;34m(\u001b[0m\u001b[0m_MAXLINE\u001b[0m \u001b[0;34m+\u001b[0m \u001b[0;36m1\u001b[0m\u001b[0;34m)\u001b[0m\u001b[0;34m,\u001b[0m \u001b[0;34m\"iso-8859-1\"\u001b[0m\u001b[0;34m)\u001b[0m\u001b[0;34m\u001b[0m\u001b[0;34m\u001b[0m\u001b[0m\n\u001b[0m\u001b[1;32m    282\u001b[0m         \u001b[0;32mif\u001b[0m \u001b[0mlen\u001b[0m\u001b[0;34m(\u001b[0m\u001b[0mline\u001b[0m\u001b[0;34m)\u001b[0m \u001b[0;34m>\u001b[0m \u001b[0m_MAXLINE\u001b[0m\u001b[0;34m:\u001b[0m\u001b[0;34m\u001b[0m\u001b[0;34m\u001b[0m\u001b[0m\n\u001b[1;32m    283\u001b[0m             \u001b[0;32mraise\u001b[0m \u001b[0mLineTooLong\u001b[0m\u001b[0;34m(\u001b[0m\u001b[0;34m\"status line\"\u001b[0m\u001b[0;34m)\u001b[0m\u001b[0;34m\u001b[0m\u001b[0;34m\u001b[0m\u001b[0m\n",
      "\u001b[0;32m~/opt/anaconda3/lib/python3.9/socket.py\u001b[0m in \u001b[0;36mreadinto\u001b[0;34m(self, b)\u001b[0m\n\u001b[1;32m    702\u001b[0m         \u001b[0;32mwhile\u001b[0m \u001b[0;32mTrue\u001b[0m\u001b[0;34m:\u001b[0m\u001b[0;34m\u001b[0m\u001b[0;34m\u001b[0m\u001b[0m\n\u001b[1;32m    703\u001b[0m             \u001b[0;32mtry\u001b[0m\u001b[0;34m:\u001b[0m\u001b[0;34m\u001b[0m\u001b[0;34m\u001b[0m\u001b[0m\n\u001b[0;32m--> 704\u001b[0;31m                 \u001b[0;32mreturn\u001b[0m \u001b[0mself\u001b[0m\u001b[0;34m.\u001b[0m\u001b[0m_sock\u001b[0m\u001b[0;34m.\u001b[0m\u001b[0mrecv_into\u001b[0m\u001b[0;34m(\u001b[0m\u001b[0mb\u001b[0m\u001b[0;34m)\u001b[0m\u001b[0;34m\u001b[0m\u001b[0;34m\u001b[0m\u001b[0m\n\u001b[0m\u001b[1;32m    705\u001b[0m             \u001b[0;32mexcept\u001b[0m \u001b[0mtimeout\u001b[0m\u001b[0;34m:\u001b[0m\u001b[0;34m\u001b[0m\u001b[0;34m\u001b[0m\u001b[0m\n\u001b[1;32m    706\u001b[0m                 \u001b[0mself\u001b[0m\u001b[0;34m.\u001b[0m\u001b[0m_timeout_occurred\u001b[0m \u001b[0;34m=\u001b[0m \u001b[0;32mTrue\u001b[0m\u001b[0;34m\u001b[0m\u001b[0;34m\u001b[0m\u001b[0m\n",
      "\u001b[0;32m~/opt/anaconda3/lib/python3.9/ssl.py\u001b[0m in \u001b[0;36mrecv_into\u001b[0;34m(self, buffer, nbytes, flags)\u001b[0m\n\u001b[1;32m   1240\u001b[0m                   \u001b[0;34m\"non-zero flags not allowed in calls to recv_into() on %s\"\u001b[0m \u001b[0;34m%\u001b[0m\u001b[0;34m\u001b[0m\u001b[0;34m\u001b[0m\u001b[0m\n\u001b[1;32m   1241\u001b[0m                   self.__class__)\n\u001b[0;32m-> 1242\u001b[0;31m             \u001b[0;32mreturn\u001b[0m \u001b[0mself\u001b[0m\u001b[0;34m.\u001b[0m\u001b[0mread\u001b[0m\u001b[0;34m(\u001b[0m\u001b[0mnbytes\u001b[0m\u001b[0;34m,\u001b[0m \u001b[0mbuffer\u001b[0m\u001b[0;34m)\u001b[0m\u001b[0;34m\u001b[0m\u001b[0;34m\u001b[0m\u001b[0m\n\u001b[0m\u001b[1;32m   1243\u001b[0m         \u001b[0;32melse\u001b[0m\u001b[0;34m:\u001b[0m\u001b[0;34m\u001b[0m\u001b[0;34m\u001b[0m\u001b[0m\n\u001b[1;32m   1244\u001b[0m             \u001b[0;32mreturn\u001b[0m \u001b[0msuper\u001b[0m\u001b[0;34m(\u001b[0m\u001b[0;34m)\u001b[0m\u001b[0;34m.\u001b[0m\u001b[0mrecv_into\u001b[0m\u001b[0;34m(\u001b[0m\u001b[0mbuffer\u001b[0m\u001b[0;34m,\u001b[0m \u001b[0mnbytes\u001b[0m\u001b[0;34m,\u001b[0m \u001b[0mflags\u001b[0m\u001b[0;34m)\u001b[0m\u001b[0;34m\u001b[0m\u001b[0;34m\u001b[0m\u001b[0m\n",
      "\u001b[0;32m~/opt/anaconda3/lib/python3.9/ssl.py\u001b[0m in \u001b[0;36mread\u001b[0;34m(self, len, buffer)\u001b[0m\n\u001b[1;32m   1098\u001b[0m         \u001b[0;32mtry\u001b[0m\u001b[0;34m:\u001b[0m\u001b[0;34m\u001b[0m\u001b[0;34m\u001b[0m\u001b[0m\n\u001b[1;32m   1099\u001b[0m             \u001b[0;32mif\u001b[0m \u001b[0mbuffer\u001b[0m \u001b[0;32mis\u001b[0m \u001b[0;32mnot\u001b[0m \u001b[0;32mNone\u001b[0m\u001b[0;34m:\u001b[0m\u001b[0;34m\u001b[0m\u001b[0;34m\u001b[0m\u001b[0m\n\u001b[0;32m-> 1100\u001b[0;31m                 \u001b[0;32mreturn\u001b[0m \u001b[0mself\u001b[0m\u001b[0;34m.\u001b[0m\u001b[0m_sslobj\u001b[0m\u001b[0;34m.\u001b[0m\u001b[0mread\u001b[0m\u001b[0;34m(\u001b[0m\u001b[0mlen\u001b[0m\u001b[0;34m,\u001b[0m \u001b[0mbuffer\u001b[0m\u001b[0;34m)\u001b[0m\u001b[0;34m\u001b[0m\u001b[0;34m\u001b[0m\u001b[0m\n\u001b[0m\u001b[1;32m   1101\u001b[0m             \u001b[0;32melse\u001b[0m\u001b[0;34m:\u001b[0m\u001b[0;34m\u001b[0m\u001b[0;34m\u001b[0m\u001b[0m\n\u001b[1;32m   1102\u001b[0m                 \u001b[0;32mreturn\u001b[0m \u001b[0mself\u001b[0m\u001b[0;34m.\u001b[0m\u001b[0m_sslobj\u001b[0m\u001b[0;34m.\u001b[0m\u001b[0mread\u001b[0m\u001b[0;34m(\u001b[0m\u001b[0mlen\u001b[0m\u001b[0;34m)\u001b[0m\u001b[0;34m\u001b[0m\u001b[0;34m\u001b[0m\u001b[0m\n",
      "\u001b[0;31mKeyboardInterrupt\u001b[0m: "
     ]
    }
   ],
   "source": [
    "from cobra.flux_analysis import pfba\n",
    "from optlang.symbolics import Zero, add\n",
    "clade_mag_mapping = util.kbdevutil.load(\"clade_mag_mapping\")\n",
    "model_hash = {}\n",
    "secondary_models = util.msrecon.kbase_api.list_objects(165689, object_type=\"KBaseFBA.FBAModel\")\n",
    "for model in secondary_models:\n",
    "    model_hash[model[1][0:-9]] = [165689,model[1]]\n",
    "primary_models = util.msrecon.kbase_api.list_objects(174255, object_type=\"KBaseFBA.FBAModel\")\n",
    "for model in primary_models:\n",
    "    name = model[1][0:-9]\n",
    "    name.replace(\"bin_\",\"bin.\")\n",
    "    name.replace(\"_mag\",\"\")\n",
    "    model_hash[name] = [174255,model[1]]\n",
    "mag_data = {}\n",
    "for clade in clade_mag_mapping:\n",
    "    for mag in clade_mag_mapping[clade]:\n",
    "        if mag not in mag_data and mag in model_hash:\n",
    "            mdlutl = util.msrecon.get_model(model_hash[mag][1],model_hash[mag][0])\n",
    "            gfcount = 0\n",
    "            for rxn in mdlutl.model.reactions:\n",
    "                if len(rxn.genes) == 0:\n",
    "                    gfcount += 1\n",
    "            mdlutl.pkgmgr.getpkg(\"KBaseMediaPkg\").build_package(util.auxo_media)\n",
    "            mdlutl.pkgmgr.getpkg(\"ElementUptakePkg\").build_package({\"C\": 300})\n",
    "            mdlutl.model.objective = mdlutl.model.problem.Objective(Zero, direction=\"max\")\n",
    "            mdlutl.model.objective.set_linear_coefficients({mdlutl.model.reactions.bio1.forward_variable: 1})\n",
    "            growth = mdlutl.model.slim_optimize()\n",
    "            solution = pfba(mdlutl.model)\n",
    "            record = {\n",
    "                \"id\":mag,\n",
    "                \"clade\":clade,\n",
    "                \"reactions\":len(mdlutl.model.reactions),\n",
    "                \"genes\":len(mdlutl.model.genes),\n",
    "                \"gapfilling\":gfcount,\n",
    "                \"growth\":growth,\n",
    "                \"totalflux\":solution.objective_value\n",
    "            }\n",
    "            mag_data[mag] = record\n",
    "            util.save(\"mag_data\",mag_data)"
   ]
  },
  {
   "cell_type": "code",
   "execution_count": 1,
   "id": "0730f44c",
   "metadata": {},
   "outputs": [
    {
     "ename": "NameError",
     "evalue": "name 'records' is not defined",
     "output_type": "error",
     "traceback": [
      "\u001b[0;31m---------------------------------------------------------------------------\u001b[0m",
      "\u001b[0;31mNameError\u001b[0m                                 Traceback (most recent call last)",
      "\u001b[0;32m/var/folders/ph/360gp1jx5zg7qyqv076prl240000gn/T/ipykernel_66063/4070440796.py\u001b[0m in \u001b[0;36m<module>\u001b[0;34m\u001b[0m\n\u001b[1;32m      1\u001b[0m \u001b[0;31m#df = pd.DataFrame.from_records(records)\u001b[0m\u001b[0;34m\u001b[0m\u001b[0;34m\u001b[0m\u001b[0m\n\u001b[1;32m      2\u001b[0m \u001b[0;31m#df.to_csv(\"model_stats.csv\",index=False)\u001b[0m\u001b[0;34m\u001b[0m\u001b[0;34m\u001b[0m\u001b[0m\n\u001b[0;32m----> 3\u001b[0;31m \u001b[0mprint\u001b[0m\u001b[0;34m(\u001b[0m\u001b[0mlen\u001b[0m\u001b[0;34m(\u001b[0m\u001b[0mrecords\u001b[0m\u001b[0;34m)\u001b[0m\u001b[0;34m)\u001b[0m\u001b[0;34m\u001b[0m\u001b[0;34m\u001b[0m\u001b[0m\n\u001b[0m",
      "\u001b[0;31mNameError\u001b[0m: name 'records' is not defined"
     ]
    }
   ],
   "source": [
    "#df = pd.DataFrame.from_records(records)\n",
    "#df.to_csv(\"model_stats.csv\",index=False)\n",
    "print(len(records))"
   ]
  },
  {
   "cell_type": "code",
   "execution_count": null,
   "id": "24825789",
   "metadata": {},
   "outputs": [],
   "source": []
  }
 ],
 "metadata": {
  "kernelspec": {
   "display_name": "base",
   "language": "python",
   "name": "python3"
  },
  "language_info": {
   "codemirror_mode": {
    "name": "ipython",
    "version": 3
   },
   "file_extension": ".py",
   "mimetype": "text/x-python",
   "name": "python",
   "nbconvert_exporter": "python",
   "pygments_lexer": "ipython3",
   "version": "3.9.13"
  }
 },
 "nbformat": 4,
 "nbformat_minor": 5
}
