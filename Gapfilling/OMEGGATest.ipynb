{
 "cells": [
  {
   "cell_type": "markdown",
   "id": "47eab5e0",
   "metadata": {},
   "source": [
    "# Configure KBase Jupyter Dev Environment\n",
    "<sub><sup>(contact chenry@anl.gov with questions)</sub></sup>"
   ]
  },
  {
   "cell_type": "code",
   "execution_count": null,
   "id": "1ab316e3-fb7d-4d10-b393-c8d597d4e9ef",
   "metadata": {
    "tags": [],
    "vscode": {
     "languageId": "perl"
    }
   },
   "outputs": [
    {
     "name": "stdout",
     "output_type": "stream",
     "text": [
      "python version 3.9.13\n",
      "KBBaseModules 0.0.1\n",
      "Output files printed to:/Users/chenry/workspace/Notebooks//ModelSEED2//sessions/default/output when using KBDevUtils.output_dir\n",
      "modelseedpy 0.3.3\n",
      "cobrakbase 0.3.1\n"
     ]
    }
   ],
   "source": [
    "import platform\n",
    "print(\"python version \" + platform.python_version())\n",
    "import sys\n",
    "import json\n",
    "from json import dump\n",
    "import os\n",
    "import pandas as pd\n",
    "from pandas import DataFrame, read_csv, concat, set_option\n",
    "from os.path import exists\n",
    "from pathlib import Path\n",
    "import logging\n",
    "import shutil\n",
    "from configparser import ConfigParser\n",
    "\n",
    "config = ConfigParser()\n",
    "if not exists(str(Path.home()) + '/.kbase/config'):    \n",
    "    if exists(\"/scratch/shared/code/sharedconfig.cfg\"):\n",
    "        shutil.copyfile(\"/scratch/shared/code/sharedconfig.cfg\",str(Path.home()) + '/.kbase/config')\n",
    "    else:\n",
    "        print(\"You much create a config file in ~/.kbase/config before running this notebook. See instructions: https://docs.google.com/document/d/1fQ6iS_uaaZKbjWtw1MgzqilklttIibNO9XIIJWgxWKo/edit\")\n",
    "        sys.exit(1)\n",
    "config.read(str(Path.home()) + '/.kbase/config')\n",
    "paths = config.get(\"DevEnv\",\"syspaths\").split(\";\")\n",
    "codebase = config.get(\"DevEnv\",\"codebase\",fallback=\"\")\n",
    "for i,filepath in enumerate(paths):\n",
    "    if filepath[0:1] != \"/\":\n",
    "        paths[i] = codebase+\"/\"+filepath\n",
    "sys.path = paths + sys.path\n",
    "\n",
    "from chenry_utility_module.kbdevutils import KBDevUtils\n",
    "kbdevutil = KBDevUtils(\"ModelSEED2\")\n",
    "from modelseedpy import MSPackageManager, MSModelUtil, MSBuilder, MSATPCorrection, MSGapfill, MSModelReport\n",
    "from modelseedpy.core.mstemplate import MSTemplateBuilder\n",
    "logger = logging.getLogger(__name__)\n",
    "logger.setLevel(logging.INFO)\n",
    "msrecon = kbdevutil.msseedrecon()\n",
    "\n",
    "com_media = msrecon.get_media(\"KBaseMedia/Complete\")\n",
    "gmm_media = msrecon.get_media(\"KBaseMedia/Carbon-D-Glucose\")\n",
    "auxo_media = msrecon.get_media(\"94026/Auxotrophy_media\")"
   ]
  },
  {
   "cell_type": "code",
   "execution_count": null,
   "id": "48f3eef3-61ff-47d5-b978-1f46fc85cf50",
   "metadata": {
    "scrolled": true,
    "tags": [],
    "vscode": {
     "languageId": "perl"
    }
   },
   "outputs": [],
   "source": [
    "#Pulling super annotated ecoli genome\n",
    "genome_ref = \"77537/Eco_RAST_Prokka_BlastKOALA_PTools_DeepEC_DeepGO\"\n",
    "output = annoapi.get_annotation_ontology_events({\n",
    "    \"input_ref\" : genome_ref\n",
    "})\n",
    "#Pulling ecoli model\n",
    "model = msrecon.get_model(\"151253/GCF_000005845.2.RAST.NewGMM.mdl\")\n",
    "media = msrecon.get_media(\"KBaseMedia/Carbon-L-Phenylalanine\")\n",
    "mdlutl.pkgmgr.getpkg(\"KBaseMediaPkg\").build_package(media)\n",
    "#Loading transcriptome\n",
    "expression = pd.read_csv(\"ExpressionData.tsv\",sep=\"\\t\")\n",
    "#Getting MSGapfill object\n",
    "msgapfill = MSGapfill(\n",
    "    mdlutl,\n",
    "    [self.get_template(mdlutl.model.template_ref)],\n",
    "    [],\n",
    "    [],\n",
    "    blacklist=[],\n",
    "    default_target=\"bio1\",\n",
    "    minimum_obj=0.01\n",
    ")\n",
    "#Running method\n"
   ]
  }
 ],
 "metadata": {
  "kernelspec": {
   "display_name": "Python 3",
   "language": "python",
   "name": "python3"
  },
  "language_info": {
   "codemirror_mode": {
    "name": "ipython",
    "version": 3
   },
   "file_extension": ".py",
   "mimetype": "text/x-python",
   "name": "python",
   "nbconvert_exporter": "python",
   "pygments_lexer": "ipython3",
   "version": "3.9.13"
  }
 },
 "nbformat": 4,
 "nbformat_minor": 5
}
