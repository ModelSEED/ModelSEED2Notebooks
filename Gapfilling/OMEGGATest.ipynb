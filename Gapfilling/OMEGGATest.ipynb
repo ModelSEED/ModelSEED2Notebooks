{
 "cells": [
  {
   "cell_type": "markdown",
   "id": "91216025",
   "metadata": {},
   "source": [
    "# Testing Rich Gapfilling with Super Annotated Genome"
   ]
  },
  {
   "cell_type": "code",
   "execution_count": 1,
   "id": "48f3eef3-61ff-47d5-b978-1f46fc85cf50",
   "metadata": {
    "scrolled": true,
    "tags": [],
    "vscode": {
     "languageId": "perl"
    }
   },
   "outputs": [
    {
     "name": "stderr",
     "output_type": "stream",
     "text": [
      "1727016748.039089 INFO: Note: NumExpr detected 16 cores but \"NUMEXPR_MAX_THREADS\" not set, so enforcing safe limit of 8.\n",
      "1727016748.039793 INFO: NumExpr defaulting to 8 threads.\n"
     ]
    },
    {
     "name": "stdout",
     "output_type": "stream",
     "text": [
      "python version 3.9.19\n",
      "KBBaseModules 0.0.1\n",
      "modelseedpy 0.3.3\n",
      "cobrakbase 0.4.0\n",
      "Output files printed to:/Users/chenry/code/notebooks/ModelSEED2Notebooks/Gapfilling/nboutput when using KBDevUtils.output_dir\n"
     ]
    },
    {
     "name": "stderr",
     "output_type": "stream",
     "text": [
      "1727016749.452847 INFO: get_annotation_ontology_events:{\n",
      "    \"input_ref\": \"77537/Eco_RAST_Prokka_BlastKOALA_PTools_DeepEC_DeepGO\"\n",
      "}\n",
      "1727016755.823801 INFO: metabolites 1318\n",
      "1727016755.922484 INFO: reactions 1352\n",
      "1727016755.952668 INFO: The current solver interface glpk doesn't support setting the optimality tolerance.\n",
      "1727016756.069254 INFO: Default biomass: [bio1]\n",
      "1727016758.109956 INFO: The current solver interface glpk doesn't support setting the optimality tolerance.\n",
      "1727016776.6998222 INFO: Objective with gapfill database:1.2511390713231398; min objective:0.01\n",
      "1727016778.710484 INFO: Objective with gapfill database:1.2511390713232502; min objective:0.01\n",
      "1727016780.256452 INFO: Initial solution: {'reversed': {}, 'new': {'EX_cpd00066_e0': '<', 'rxn04600_c0': '>', 'rxn04598_c0': '>', 'rxn01315_c0': '>', 'rxn00777_c0': '<', 'rxn01313_c0': '>', 'rxn04604_c0': '>', 'rxn00333_c0': '>', 'rxn04603_c0': '>', 'rxn00495_c0': '>', 'rxn05306_c0': '>'}, 'media': <cobrakbase.core.kbasebiochem.media.Media object at 0x38c5f5790>, 'target': 'bio1', 'minobjective': 0.01, 'binary_check': False}\n",
      "1727016780.257223 INFO: integrating rxn: EX_cpd00066_e0\n",
      "1727016780.26062 INFO: integrating rxn: rxn04600_c0\n",
      "1727016780.263764 INFO: integrating rxn: rxn04598_c0\n",
      "1727016780.265738 INFO: integrating rxn: rxn01315_c0\n",
      "1727016780.266248 INFO: integrating rxn: rxn00777_c0\n",
      "1727016780.2691488 INFO: integrating rxn: rxn01313_c0\n",
      "1727016780.2731378 INFO: integrating rxn: rxn04604_c0\n",
      "1727016780.2739441 INFO: integrating rxn: rxn00333_c0\n",
      "1727016780.2763 INFO: integrating rxn: rxn04603_c0\n",
      "1727016780.2769291 INFO: integrating rxn: rxn00495_c0\n",
      "1727016780.279624 INFO: integrating rxn: rxn05306_c0\n",
      "1727016780.280017 INFO: Full solution: [['EX_cpd00066_e0', '<', 'new'], ['rxn04600_c0', '>', 'new'], ['rxn04598_c0', '>', 'new'], ['rxn01315_c0', '>', 'new'], ['rxn00777_c0', '<', 'new'], ['rxn01313_c0', '>', 'new'], ['rxn04604_c0', '>', 'new'], ['rxn00333_c0', '>', 'new'], ['rxn04603_c0', '>', 'new'], ['rxn00495_c0', '>', 'new'], ['rxn05306_c0', '>', 'new']]\n",
      "1727016780.4243 INFO: Carbon-L-Phenylalanine/bio1:EX_cpd00066_e0< needed:0.0 with min obj:0.01\n",
      "1727016780.428152 INFO: Carbon-L-Phenylalanine/bio1:rxn04600_c0> needed:0.0 with min obj:0.01\n",
      "1727016780.4320152 INFO: Carbon-L-Phenylalanine/bio1:rxn04598_c0> needed:0.0 with min obj:0.01\n",
      "1727016780.435903 INFO: rxn01315_c0> not needed:0.7153720976588711\n",
      "1727016780.442964 INFO: rxn00777_c0< not needed:0.710203105096957\n",
      "1727016780.446642 INFO: rxn01313_c0> not needed:0.7102031050969644\n",
      "1727016780.4506729 INFO: Carbon-L-Phenylalanine/bio1:rxn04604_c0> needed:-9.744675979147717e-16 with min obj:0.01\n",
      "1727016780.45457 INFO: rxn00333_c0> not needed:0.7101479219520868\n",
      "1727016780.458313 INFO: Carbon-L-Phenylalanine/bio1:rxn04603_c0> needed:1.9648740738002115e-16 with min obj:0.01\n",
      "1727016780.4624372 INFO: Carbon-L-Phenylalanine/bio1:rxn00495_c0> needed:0.0 with min obj:0.01\n",
      "1727016780.465971 INFO: Carbon-L-Phenylalanine/bio1:rxn05306_c0> needed:0.0 with min obj:0.01\n",
      "1727016780.486763 INFO: Unneeded: [['rxn01315_c0', '>', 'new', 100, None], ['rxn00777_c0', '<', 'new', -100, None], ['rxn01313_c0', '>', 'new', 100, None], ['rxn00333_c0', '>', 'new', 100, None]]\n",
      "1727016780.487127 INFO: Cumulative: []\n",
      "1727016780.563193 INFO: Growth: 0.7101479220298201 Carbon-L-Phenylalanine\n"
     ]
    },
    {
     "name": "stdout",
     "output_type": "stream",
     "text": [
      "Adding gapfilling {'reversed': {}, 'new': {'EX_cpd00066_e0': '<', 'rxn04600_c0': '>', 'rxn04598_c0': '>', 'rxn01315_c0': '>', 'rxn00777_c0': '<', 'rxn01313_c0': '>', 'rxn04604_c0': '>', 'rxn00333_c0': '>', 'rxn04603_c0': '>', 'rxn00495_c0': '>', 'rxn05306_c0': '>'}, 'media': <cobrakbase.core.kbasebiochem.media.Media object at 0x38c5f5790>, 'target': 'bio1', 'minobjective': 0.01, 'binary_check': False}\n"
     ]
    },
    {
     "name": "stderr",
     "output_type": "stream",
     "text": [
      "1727016781.8274078 INFO: Gapfilling sensitivity analysis running\n",
      "1727016781.886836 INFO: The current solver interface glpk doesn't support setting the optimality tolerance.\n",
      "1727016782.47152 INFO: Setting FBAModel computed_attributes to mdlutl attributes\n"
     ]
    },
    {
     "data": {
      "text/plain": [
       "{<cobrakbase.core.kbasebiochem.media.Media at 0x38c5f5790>: {'growth': 0.7101479220298201,\n",
       "  'media': <cobrakbase.core.kbasebiochem.media.Media at 0x38c5f5790>,\n",
       "  'target': 'bio1',\n",
       "  'minobjective': 0.01,\n",
       "  'binary_check': False,\n",
       "  'new': {'EX_cpd00066_e0': '<',\n",
       "   'rxn04600_c0': '>',\n",
       "   'rxn04598_c0': '>',\n",
       "   'rxn04604_c0': '>',\n",
       "   'rxn04603_c0': '>',\n",
       "   'rxn00495_c0': '>',\n",
       "   'rxn05306_c0': '>'},\n",
       "  'reversed': {}}}"
      ]
     },
     "execution_count": 1,
     "metadata": {},
     "output_type": "execute_result"
    }
   ],
   "source": [
    "%run util.py\n",
    "#Pulling super annotated ecoli genome\n",
    "genome_ref = \"77537/Eco_RAST_Prokka_BlastKOALA_PTools_DeepEC_DeepGO\"\n",
    "#Link to AnnotationOntology code in github:\n",
    "annoont = AnnotationOntology.from_kbase_data(util.annoapi.get_annotation_ontology_events({\n",
    "    \"input_ref\" : genome_ref\n",
    "}),genome_ref)\n",
    "output = annoont.get_reaction_gene_hash()\n",
    "util.save(\"reaction_gene_hash\",output)\n",
    "#You will call the get_reaction_gene_hash function of annoont to get the reaction gene hash\n",
    "#Pulling ecoli model\n",
    "model = util.msrecon.get_model(\"151253/GCF_000005845.2.RAST.NewGMM.mdl\")\n",
    "media = util.msrecon.get_media(\"KBaseMedia/Carbon-L-Phenylalanine\")\n",
    "model.pkgmgr.getpkg(\"KBaseMediaPkg\").build_package(media)\n",
    "#Loading transcriptome\n",
    "expression = pd.read_csv(\"ExpressionData.tsv\",sep=\"\\t\")\n",
    "#Getting MSGapfill object\n",
    "msgapfill = MSGapfill(\n",
    "    model_or_mdlutl=model,\n",
    "    default_gapfill_templates=[util.msrecon.get_template(model.model.template_ref)],\n",
    "    default_gapfill_models=[],\n",
    "    test_conditions=[],\n",
    "    blacklist=[],\n",
    "    default_target=\"bio1\",\n",
    "    minimum_obj=0.01\n",
    ")\n",
    "#Running score computation\n",
    "msgapfill.compute_reaction_weights_from_expression_data(expression,annoont)\n",
    "#This function needs to include the following code:\n",
    "#msgapfill.reaction_scores = computed_weights\n",
    "#msgapfill.gfpkgmgr.getpkg(\"GapfillingPkg\").compute_gapfilling_penalties(reaction_scores=msgapfill.reaction_scores)\n",
    "#msgapfill.gfpkgmgr.getpkg(\"GapfillingPkg\").build_gapfilling_objective_function()\n",
    "#Running gapfilling\n",
    "msgapfill.run_multi_gapfill([media],target=\"bio1\")\n",
    "#We should find a reaction that must be gapfilled that has multiple gene candidates only one of which has an expression score\n"
   ]
  },
  {
   "cell_type": "markdown",
   "id": "8c6fefb9",
   "metadata": {},
   "source": [
    "# Code cell to use to run pipeline on all of Aimee's genomes"
   ]
  },
  {
   "cell_type": "code",
   "execution_count": null,
   "id": "b6b5e5d8",
   "metadata": {
    "vscode": {
     "languageId": "perl"
    }
   },
   "outputs": [],
   "source": [
    "#Run full pipeline on https://narrative.kbase.us/narrative/167956\n"
   ]
  }
 ],
 "metadata": {
  "kernelspec": {
   "display_name": "Python 3",
   "language": "python",
   "name": "python3"
  },
  "language_info": {
   "codemirror_mode": {
    "name": "ipython",
    "version": 3
   },
   "file_extension": ".py",
   "mimetype": "text/x-python",
   "name": "python",
   "nbconvert_exporter": "python",
   "pygments_lexer": "ipython3",
   "version": "3.9.19"
  }
 },
 "nbformat": 4,
 "nbformat_minor": 5
}
