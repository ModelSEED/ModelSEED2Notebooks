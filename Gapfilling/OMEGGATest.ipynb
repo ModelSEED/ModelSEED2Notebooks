{
 "cells": [
  {
   "cell_type": "markdown",
   "id": "47eab5e0",
   "metadata": {},
   "source": [
    "# Configure KBase Jupyter Dev Environment\n",
    "<sub><sup>(contact chenry@anl.gov with questions)</sub></sup>"
   ]
  },
  {
   "cell_type": "code",
   "execution_count": 8,
   "id": "1ab316e3-fb7d-4d10-b393-c8d597d4e9ef",
   "metadata": {
    "tags": [],
    "vscode": {
     "languageId": "perl"
    }
   },
   "outputs": [
    {
     "name": "stdout",
     "output_type": "stream",
     "text": [
      "python version 3.9.13\n",
      "Output files printed to:/Users/chenry/workspace/Notebooks//ModelSEED2//sessions/default/output when using KBDevUtils.output_dir\n"
     ]
    }
   ],
   "source": [
    "import platform\n",
    "print(\"python version \" + platform.python_version())\n",
    "import sys\n",
    "import json\n",
    "from json import dump\n",
    "import os\n",
    "import pandas as pd\n",
    "from pandas import DataFrame, read_csv, concat, set_option\n",
    "from os.path import exists\n",
    "from pathlib import Path\n",
    "import logging\n",
    "import shutil\n",
    "from configparser import ConfigParser\n",
    "\n",
    "config = ConfigParser()\n",
    "if not exists(str(Path.home()) + '/.kbase/config'):    \n",
    "    if exists(\"/scratch/shared/code/sharedconfig.cfg\"):\n",
    "        shutil.copyfile(\"/scratch/shared/code/sharedconfig.cfg\",str(Path.home()) + '/.kbase/config')\n",
    "    else:\n",
    "        print(\"You much create a config file in ~/.kbase/config before running this notebook. See instructions: https://docs.google.com/document/d/1fQ6iS_uaaZKbjWtw1MgzqilklttIibNO9XIIJWgxWKo/edit\")\n",
    "        sys.exit(1)\n",
    "config.read(str(Path.home()) + '/.kbase/config')\n",
    "paths = config.get(\"DevEnv\",\"syspaths\").split(\";\")\n",
    "codebase = config.get(\"DevEnv\",\"codebase\",fallback=\"\")\n",
    "for i,filepath in enumerate(paths):\n",
    "    if filepath[0:1] != \"/\":\n",
    "        paths[i] = codebase+\"/\"+filepath\n",
    "sys.path = paths + sys.path\n",
    "\n",
    "from chenry_utility_module.kbdevutils import KBDevUtils\n",
    "kbdevutil = KBDevUtils(\"ModelSEED2\")\n",
    "from modelseedpy import AnnotationOntology, MSPackageManager, MSModelUtil, MSBuilder, MSATPCorrection, MSGapfill, MSModelReport\n",
    "from modelseedpy.core.mstemplate import MSTemplateBuilder\n",
    "logger = logging.getLogger(__name__)\n",
    "logger.setLevel(logging.INFO)\n",
    "msrecon = kbdevutil.msseedrecon()\n",
    "annoapi = kbdevutil.anno_client(native_python_api=True)\n",
    "\n",
    "com_media = msrecon.get_media(\"KBaseMedia/Complete\")\n",
    "gmm_media = msrecon.get_media(\"KBaseMedia/Carbon-D-Glucose\")\n",
    "auxo_media = msrecon.get_media(\"94026/Auxotrophy_media\")"
   ]
  },
  {
   "cell_type": "code",
   "execution_count": 9,
   "id": "48f3eef3-61ff-47d5-b978-1f46fc85cf50",
   "metadata": {
    "scrolled": true,
    "tags": [],
    "vscode": {
     "languageId": "perl"
    }
   },
   "outputs": [
    {
     "name": "stderr",
     "output_type": "stream",
     "text": [
      "1706216668.597505 INFO: get_annotation_ontology_events:{\n",
      "    \"input_ref\": \"77537/Eco_RAST_Prokka_BlastKOALA_PTools_DeepEC_DeepGO\"\n",
      "}\n"
     ]
    },
    {
     "name": "stderr",
     "output_type": "stream",
     "text": [
      "1706216696.5901818 INFO: metabolites 1517\n",
      "1706216704.327056 INFO: reactions 1650\n",
      "1706216710.906146 INFO: Default biomass: [bio1]\n"
     ]
    },
    {
     "name": "stdout",
     "output_type": "stream",
     "text": [
      "Initial solution: {'reversed': {}, 'new': {'rxn01315_c0': '>', 'rxn00495_c0': '>'}, 'media': <cobrakbase.core.kbasebiochem.media.Media object at 0x7fb2c2adab20>, 'target': 'bio1', 'minobjective': 0.01, 'binary_check': False}\n"
     ]
    },
    {
     "name": "stderr",
     "output_type": "stream",
     "text": [
      "1706216805.9388428 INFO: rxn01315_c0> not needed:0.7151331156379079\n",
      "1706216805.953702 INFO: Carbon-L-Phenylalanine/bio1:rxn00495_c0> needed:0.0 with min obj:0.01\n"
     ]
    },
    {
     "name": "stdout",
     "output_type": "stream",
     "text": [
      "Unneeded: [['rxn01315_c0', '>', 'new', 100]]\n",
      "Growth: 0.7151331156379119 Carbon-L-Phenylalanine\n",
      "Adding gapfilling {'growth': 0.7151331156379119, 'media': <cobrakbase.core.kbasebiochem.media.Media object at 0x7fb2c2adab20>, 'target': 'bio1', 'minobjective': 0.01, 'binary_check': False, 'new': {'rxn00495_c0': '>'}, 'reversed': {}}\n"
     ]
    },
    {
     "data": {
      "text/plain": [
       "{<cobrakbase.core.kbasebiochem.media.Media at 0x7fb2c2adab20>: {'growth': 0.7151331156379119,\n",
       "  'media': <cobrakbase.core.kbasebiochem.media.Media at 0x7fb2c2adab20>,\n",
       "  'target': 'bio1',\n",
       "  'minobjective': 0.01,\n",
       "  'binary_check': False,\n",
       "  'new': {'rxn00495_c0': '>'},\n",
       "  'reversed': {}}}"
      ]
     },
     "execution_count": 9,
     "metadata": {},
     "output_type": "execute_result"
    }
   ],
   "source": [
    "#Pulling super annotated ecoli genome\n",
    "genome_ref = \"77537/Eco_RAST_Prokka_BlastKOALA_PTools_DeepEC_DeepGO\"\n",
    "#Link to AnnotationOntology code in github:\n",
    "annoont = AnnotationOntology(annoapi.get_annotation_ontology_events({\n",
    "    \"input_ref\" : genome_ref\n",
    "}),genome_ref)\n",
    "#You will call the get_reaction_gene_hash function of annoont to get the reaction gene hash\n",
    "#Pulling ecoli model\n",
    "model = msrecon.get_model(\"151253/GCF_000005845.2.RAST.NewGMM.mdl\")\n",
    "media = msrecon.get_media(\"KBaseMedia/Carbon-L-Phenylalanine\")\n",
    "model.pkgmgr.getpkg(\"KBaseMediaPkg\").build_package(media)\n",
    "#Loading transcriptome\n",
    "expression = pd.read_csv(\"ExpressionData.tsv\",sep=\"\\t\")\n",
    "#Getting MSGapfill object\n",
    "msgapfill = MSGapfill(\n",
    "    model,\n",
    "    [msrecon.get_template(model.model.template_ref)],\n",
    "    [],\n",
    "    [],\n",
    "    blacklist=[],\n",
    "    default_target=\"bio1\",\n",
    "    minimum_obj=0.01\n",
    ")\n",
    "#Running score computation\n",
    "msgapfill.compute_reaction_weights_from_expression_data(expression,annoont)\n",
    "#This function needs to include the following code:\n",
    "#msgapfill.reaction_scores = computed_weights\n",
    "#msgapfill.gfpkgmgr.getpkg(\"GapfillingPkg\").compute_gapfilling_penalties(reaction_scores=msgapfill.reaction_scores)\n",
    "#msgapfill.gfpkgmgr.getpkg(\"GapfillingPkg\").build_gapfilling_objective_function()\n",
    "#Running gapfilling\n",
    "msgapfill.run_multi_gapfill([media],target=\"bio1\")\n",
    "#We should find a reaction that must be gapfilled that has multiple gene candidates only one of which has an expression score\n"
   ]
  },
  {
   "cell_type": "markdown",
   "id": "8c6fefb9",
   "metadata": {},
   "source": [
    "# Code cell to use to run pipeline on all of Aimee's genomes"
   ]
  },
  {
   "cell_type": "code",
   "execution_count": null,
   "id": "b6b5e5d8",
   "metadata": {
    "vscode": {
     "languageId": "perl"
    }
   },
   "outputs": [],
   "source": [
    "#Run full pipeline on https://narrative.kbase.us/narrative/167956\n"
   ]
  }
 ],
 "metadata": {
  "kernelspec": {
   "display_name": "Python 3",
   "language": "python",
   "name": "python3"
  },
  "language_info": {
   "codemirror_mode": {
    "name": "ipython",
    "version": 3
   },
   "file_extension": ".py",
   "mimetype": "text/x-python",
   "name": "python",
   "nbconvert_exporter": "python",
   "pygments_lexer": "ipython3",
   "version": "3.9.13"
  }
 },
 "nbformat": 4,
 "nbformat_minor": 5
}
